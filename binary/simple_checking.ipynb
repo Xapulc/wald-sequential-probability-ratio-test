{
 "cells": [
  {
   "cell_type": "markdown",
   "id": "0ff00206",
   "metadata": {},
   "source": [
    "# Проверка последовательного анализа"
   ]
  },
  {
   "cell_type": "markdown",
   "id": "7c7418b3",
   "metadata": {},
   "source": [
    "Если вы хотите проверить реализацию последовательного анализа для *бинарных величин*, вы можете воспользоваться этим блокнотом, скопировав код из файлов [BinaryOneSampleSprt](/binary/sprt/one_sample_sprt.py) и [BinaryTwoSampleSprt](/binary/sprt/two_sample_sprt.py). Перебирая различные параметры можно проверить корректность подхода именно в вашем случае.\n",
    "\n",
    "Отмечу, что обширная проверка корректности выполнялась в [checking](/binary/checking)."
   ]
  },
  {
   "cell_type": "markdown",
   "id": "b15b45c1",
   "metadata": {
    "ExecuteTime": {
     "end_time": "2024-02-28T15:36:24.500528Z",
     "start_time": "2024-02-28T15:36:24.499080Z"
    },
    "collapsed": true
   },
   "source": [
    "# Импорты функций"
   ]
  },
  {
   "cell_type": "code",
   "execution_count": 1,
   "id": "1038f79d",
   "metadata": {
    "ExecuteTime": {
     "end_time": "2024-03-04T19:46:31.283977Z",
     "start_time": "2024-03-04T19:46:30.993363Z"
    }
   },
   "outputs": [],
   "source": [
    "from scipy.stats import bernoulli\n",
    "\n",
    "from binary.sprt import BinaryOneSampleSprt, BinaryTwoSampleSprt"
   ]
  },
  {
   "cell_type": "markdown",
   "id": "1403c14a",
   "metadata": {},
   "source": [
    "## Случай двух выборок"
   ]
  },
  {
   "cell_type": "code",
   "execution_count": 2,
   "id": "bd447cfa",
   "metadata": {
    "ExecuteTime": {
     "end_time": "2024-03-04T19:46:32.257749Z",
     "start_time": "2024-03-04T19:46:32.255747Z"
    }
   },
   "outputs": [],
   "source": [
    "p0 = 0.07\n",
    "d = 0.005\n",
    "alpha = 0.05\n",
    "beta = 0.2\n",
    "alternative = \"greater\"\n",
    "\n",
    "# Количество тестов, которые моделируются независимо\n",
    "iter_size = 100"
   ]
  },
  {
   "cell_type": "code",
   "execution_count": 3,
   "id": "a425a438",
   "metadata": {
    "ExecuteTime": {
     "end_time": "2024-03-04T19:48:18.156523Z",
     "start_time": "2024-03-04T19:46:32.741011Z"
    }
   },
   "outputs": [
    {
     "name": "stdout",
     "output_type": "stream",
     "text": [
      "Частота принятия решения 'Тест остановлен, справедлива альтернатива p1 > p2' равна 75.00%.\n",
      "Частота принятия решения 'Тест остановлен, справедлива гипотеза p1 <= p2' равна 25.00%.\n",
      "Средний размер первой выборки равен 20883.6.\n",
      "Средний размер второй выборки равен 20900.4.\n"
     ]
    }
   ],
   "source": [
    "p1 = p0 + d\n",
    "p2 = p0\n",
    "decision_stat = {}\n",
    "stop_first_sample_size_list = []\n",
    "stop_second_sample_size_list = []\n",
    "\n",
    "for _ in range(iter_size):\n",
    "    decision_desc = \"Тест продолжается\"\n",
    "    sprt = BinaryTwoSampleSprt(p0, d, alpha, beta, \n",
    "                               alternative=alternative)\n",
    "    \n",
    "    while decision_desc == \"Тест продолжается\":\n",
    "        # Определение выборки, из которой генерируется случайная величина\n",
    "        sample_num = 1 + bernoulli.rvs(0.5)\n",
    "        first_sample_flg = sample_num == 1\n",
    "\n",
    "        if first_sample_flg:\n",
    "            x = bernoulli.rvs(p1)\n",
    "        else:\n",
    "            x = bernoulli.rvs(p2)\n",
    "\n",
    "        decision_desc = sprt.append(x, first_sample_flg)\n",
    "\n",
    "        if decision_desc != \"Тест продолжается\":\n",
    "            stop_flg = True\n",
    "            stop_first_sample_size_list.append(sprt.stop_first_sample_size)\n",
    "            stop_second_sample_size_list.append(sprt.stop_second_sample_size)\n",
    "        \n",
    "    decision_stat[decision_desc] = decision_stat.get(decision_desc, 0) + 1\n",
    "    \n",
    "for decision_desc in decision_stat:\n",
    "    decision_freq = decision_stat[decision_desc] / iter_size\n",
    "    print(f\"Частота принятия решения '{decision_desc}' равна {decision_freq:.2%}.\")\n",
    "\n",
    "stop_first_sample_size_mean = sum(stop_first_sample_size_list) / iter_size\n",
    "stop_second_sample_size_mean = sum(stop_second_sample_size_list) / iter_size\n",
    "\n",
    "print(f\"Средний размер первой выборки равен {stop_first_sample_size_mean:.1f}.\")\n",
    "print(f\"Средний размер второй выборки равен {stop_second_sample_size_mean:.1f}.\")"
   ]
  },
  {
   "cell_type": "markdown",
   "id": "518ee603",
   "metadata": {},
   "source": [
    "Альтернатива `greater` состоит в том, что вероятность успеха (конверсия) первой выборки `p1`\n",
    "больше, чем вероятность успеха (конверсия) второй выборки `p2`.\n",
    "Так как `p1 = p0 + d`, а `p2 = p0`, то справедлива альтернатива,\n",
    "и стоит ожидать, что вероятность отклонения гипотезы будет примерно равна `1 - beta = 80%`.\n",
    "Как оказалось, это примерно так и есть.\n",
    "\n",
    "При этом получена средняя длительность теста для каждой вариации. Эти числа можно сравнить с [расчётами калькулятора](https://abntester.com/#/calculation/two-sample) длительности классического теста."
   ]
  },
  {
   "cell_type": "markdown",
   "id": "c2facaee",
   "metadata": {},
   "source": [
    "## Случай одной выборки"
   ]
  },
  {
   "cell_type": "code",
   "execution_count": 4,
   "id": "8935b35b",
   "metadata": {
    "ExecuteTime": {
     "end_time": "2024-03-04T19:48:18.156842Z",
     "start_time": "2024-03-04T19:48:18.154973Z"
    }
   },
   "outputs": [],
   "source": [
    "p0 = 0.07\n",
    "d = 0.005\n",
    "alpha = 0.05\n",
    "beta = 0.2\n",
    "alternative = \"two-sided\"\n",
    "\n",
    "# Количество тестов, которые моделируются независимо\n",
    "iter_size = 500"
   ]
  },
  {
   "cell_type": "code",
   "execution_count": 5,
   "id": "629fc844",
   "metadata": {
    "ExecuteTime": {
     "end_time": "2024-03-04T19:50:03.828686Z",
     "start_time": "2024-03-04T19:48:30.316629Z"
    }
   },
   "outputs": [
    {
     "name": "stdout",
     "output_type": "stream",
     "text": [
      "Частота принятия решения 'Тест остановлен, справедлива гипотеза p = p0' равна 94.80%.\n",
      "Частота принятия решения 'Тест остановлен, справедлива альтернатива p < p0' равна 2.80%.\n",
      "Частота принятия решения 'Тест остановлен, справедлива альтернатива p > p0' равна 2.40%.\n",
      "Средний размер выборки равен 12067.7.\n"
     ]
    }
   ],
   "source": [
    "p = p0\n",
    "decision_stat = {}\n",
    "stop_sample_size_list = []\n",
    "\n",
    "for _ in range(iter_size):\n",
    "    decision_desc = \"Тест продолжается\"\n",
    "    sprt = BinaryOneSampleSprt(p0, d, alpha, beta, \n",
    "                               alternative=alternative)\n",
    "    \n",
    "    while decision_desc == \"Тест продолжается\":\n",
    "        x = bernoulli.rvs(p)\n",
    "        decision_desc = sprt.append(x)\n",
    "\n",
    "        if decision_desc != \"Тест продолжается\":\n",
    "            stop_flg = True\n",
    "            stop_sample_size_list.append(sprt.stop_sample_size)\n",
    "        \n",
    "    decision_stat[decision_desc] = decision_stat.get(decision_desc, 0) + 1\n",
    "    \n",
    "for decision_desc in decision_stat:\n",
    "    decision_freq = decision_stat[decision_desc] / iter_size\n",
    "    print(f\"Частота принятия решения '{decision_desc}' равна {decision_freq:.2%}.\")\n",
    "\n",
    "\n",
    "stop_sample_size_mean = sum(stop_sample_size_list) / iter_size\n",
    "print(f\"Средний размер выборки равен {stop_sample_size_mean:.1f}.\")"
   ]
  },
  {
   "cell_type": "markdown",
   "id": "6f3edced",
   "metadata": {},
   "source": [
    "Альтернатива `two-sided` состоит в том, что вероятность успеха (конверсия) `p`\n",
    "отлична от заранее заданного значения `p0`.\n",
    "Так как `p = p0`, то справедлива гипотеза,\n",
    "и стоит ожидать, что вероятность отклонения гипотезы будет примерно равна `alpha = 5%`.\n",
    "Как оказалось, это примерно так и есть.\n",
    "\n",
    "При этом получена средняя длительность теста. Это число можно сравнить с [расчётами калькулятора](https://abntester.com/#/calculation/one-sample) длительности классического теста."
   ]
  },
  {
   "cell_type": "code",
   "execution_count": null,
   "id": "552c6f50",
   "metadata": {},
   "outputs": [],
   "source": []
  }
 ],
 "metadata": {
  "kernelspec": {
   "display_name": "Python 3 (ipykernel)",
   "language": "python",
   "name": "python3"
  },
  "language_info": {
   "codemirror_mode": {
    "name": "ipython",
    "version": 3
   },
   "file_extension": ".py",
   "mimetype": "text/x-python",
   "name": "python",
   "nbconvert_exporter": "python",
   "pygments_lexer": "ipython3",
   "version": "3.11.5"
  }
 },
 "nbformat": 4,
 "nbformat_minor": 5
}
