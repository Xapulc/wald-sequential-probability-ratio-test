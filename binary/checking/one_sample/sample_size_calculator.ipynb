{
 "cells": [
  {
   "cell_type": "code",
   "outputs": [],
   "source": [
    "import numpy as np\n",
    "\n",
    "from binary.checking.one_sample_sequential_sample_size import sequential_sample_size, max_sequential_sample_size"
   ],
   "metadata": {
    "collapsed": false,
    "ExecuteTime": {
     "end_time": "2024-02-24T21:58:17.063658Z",
     "start_time": "2024-02-24T21:58:16.856479Z"
    }
   },
   "id": "38698707b1c6bea3",
   "execution_count": 1
  },
  {
   "cell_type": "code",
   "execution_count": 2,
   "id": "initial_id",
   "metadata": {
    "collapsed": true,
    "ExecuteTime": {
     "end_time": "2024-02-24T21:58:17.718473Z",
     "start_time": "2024-02-24T21:58:17.715991Z"
    }
   },
   "outputs": [],
   "source": [
    "alternative = \"greater\"\n",
    "alpha = 0.05\n",
    "beta = 0.05\n",
    "p0 = 0.45\n",
    "d = 0.1"
   ]
  },
  {
   "cell_type": "code",
   "outputs": [
    {
     "name": "stdout",
     "output_type": "stream",
     "text": [
      "[0.45       0.45714286 0.46428571 0.47142857 0.47857143 0.48571429\n",
      " 0.49285714 0.5        0.50714286 0.51428571 0.52142857 0.52857143\n",
      " 0.53571429 0.54285714 0.55      ]\n",
      "[133, 146, 161, 177, 191, 204, 213, 216, 213, 204, 191, 177, 161, 146, 133]\n"
     ]
    }
   ],
   "source": [
    "p_list = np.linspace(start=p0, stop=p0+d, num=15)\n",
    "print(p_list)\n",
    "\n",
    "sample_size_list = [\n",
    "    sequential_sample_size(p, p0, d, alpha, beta, alternative)\n",
    "    for p in p_list\n",
    "]\n",
    "print(sample_size_list)"
   ],
   "metadata": {
    "collapsed": false,
    "ExecuteTime": {
     "end_time": "2024-02-24T21:58:18.130276Z",
     "start_time": "2024-02-24T21:58:18.128114Z"
    }
   },
   "id": "6e92c3a106589e75",
   "execution_count": 3
  },
  {
   "cell_type": "code",
   "outputs": [
    {
     "name": "stdout",
     "output_type": "stream",
     "text": [
      "n = 216, p = 0.499999832778317\n"
     ]
    }
   ],
   "source": [
    "n, p = max_sequential_sample_size(p0, d, alpha, beta, alternative)\n",
    "print(f\"n = {n}, p = {p}\")"
   ],
   "metadata": {
    "collapsed": false,
    "ExecuteTime": {
     "end_time": "2024-02-24T21:58:18.582588Z",
     "start_time": "2024-02-24T21:58:18.579733Z"
    }
   },
   "id": "6810c833fd0ded1d",
   "execution_count": 4
  },
  {
   "cell_type": "code",
   "outputs": [
    {
     "data": {
      "text/plain": "216"
     },
     "execution_count": 5,
     "metadata": {},
     "output_type": "execute_result"
    }
   ],
   "source": [
    "sequential_sample_size(p, p0, d, alpha, beta, alternative)"
   ],
   "metadata": {
    "collapsed": false,
    "ExecuteTime": {
     "end_time": "2024-02-24T21:58:19.568946Z",
     "start_time": "2024-02-24T21:58:19.566289Z"
    }
   },
   "id": "e6a9284d3f0865cf",
   "execution_count": 5
  }
 ],
 "metadata": {
  "kernelspec": {
   "display_name": "Python 3",
   "language": "python",
   "name": "python3"
  },
  "language_info": {
   "codemirror_mode": {
    "name": "ipython",
    "version": 2
   },
   "file_extension": ".py",
   "mimetype": "text/x-python",
   "name": "python",
   "nbconvert_exporter": "python",
   "pygments_lexer": "ipython2",
   "version": "2.7.6"
  }
 },
 "nbformat": 4,
 "nbformat_minor": 5
}
