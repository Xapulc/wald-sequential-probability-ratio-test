{
 "cells": [
  {
   "cell_type": "markdown",
   "id": "8fb3286a4894dd2d",
   "metadata": {},
   "source": [
    "# Использование последовательного анализа"
   ]
  },
  {
   "cell_type": "markdown",
   "id": "6351d9b8",
   "metadata": {},
   "source": [
    "Ниже приведены *примеры использования* последовательного анализа для *бинарных величин* (стандартных тестов конверсий). Вы *можете* смело клонировать себе проект и перебирать различные параметры, чтобы оценить простоту использования.\n",
    "\n",
    "Пара важных замечаний.\n",
    "* Для наглядности используются не данные реальных тестов, а *синтетические данные* из генератора случайных чисел. Так мы имеем возможность наблюдать поведение последовательного анализа при *различных значениях конверсий*.\n",
    "* *Длительность* последовательного теста *случайна*, поэтому при перезапуске кода длительность теста вообще говоря будет разной.\n",
    "* Ради простоты использования классы критериев *реализованы одним файлом*. Вы можете копировать код `BinaryOneSampleSprt` или `BinaryTwoSampleSprt` в свой проект и импортировать в любом блокноте уже готовую реализацию."
   ]
  },
  {
   "cell_type": "markdown",
   "id": "672f02e3f2e22b55",
   "metadata": {},
   "source": [
    "# Импорты функций"
   ]
  },
  {
   "cell_type": "code",
   "execution_count": 1,
   "id": "initial_id",
   "metadata": {
    "ExecuteTime": {
     "end_time": "2024-02-25T20:44:04.092608Z",
     "start_time": "2024-02-25T20:44:03.615871Z"
    }
   },
   "outputs": [],
   "source": [
    "from scipy.stats import bernoulli\n",
    "\n",
    "from binary.sprt import BinaryOneSampleSprt"
   ]
  },
  {
   "cell_type": "markdown",
   "id": "61b43b990cf5cb30",
   "metadata": {},
   "source": [
    "## Случай одной выборки"
   ]
  },
  {
   "cell_type": "code",
   "execution_count": 2,
   "id": "e3ef8b8cf02b6657",
   "metadata": {
    "ExecuteTime": {
     "end_time": "2024-02-25T20:44:04.095402Z",
     "start_time": "2024-02-25T20:44:04.092888Z"
    }
   },
   "outputs": [],
   "source": [
    "p0 = 0.07\n",
    "d = 0.005\n",
    "alpha = 0.05\n",
    "beta = 0.2"
   ]
  },
  {
   "cell_type": "markdown",
   "id": "e4c206b9b288d4ef",
   "metadata": {},
   "source": [
    "### Односторонняя альтернатива"
   ]
  },
  {
   "cell_type": "code",
   "execution_count": 3,
   "id": "119c7d150084bfc6",
   "metadata": {
    "ExecuteTime": {
     "end_time": "2024-02-25T20:45:32.651610Z",
     "start_time": "2024-02-25T20:45:32.650342Z"
    }
   },
   "outputs": [],
   "source": [
    "sprt = BinaryOneSampleSprt(p0, d, alpha, beta, \n",
    "                           alternative=\"less\")"
   ]
  },
  {
   "cell_type": "code",
   "execution_count": 4,
   "id": "40dc268204e24fc6",
   "metadata": {
    "ExecuteTime": {
     "end_time": "2024-02-25T20:45:32.884312Z",
     "start_time": "2024-02-25T20:45:32.803737Z"
    }
   },
   "outputs": [
    {
     "name": "stdout",
     "output_type": "stream",
     "text": [
      "Тест остановлен, справедлива гипотеза p >= p0\n",
      "Длительность теста: 3502\n"
     ]
    }
   ],
   "source": [
    "decision_desc = \"Тест продолжается\"\n",
    "\n",
    "while decision_desc == \"Тест продолжается\":\n",
    "    x = bernoulli.rvs(p0) # допустим, верна гипотеза p >= p0\n",
    "    decision_desc = sprt.append(x)\n",
    "    \n",
    "    if decision_desc != \"Тест продолжается\":\n",
    "        stop_flg = True\n",
    "\n",
    "print(decision_desc)\n",
    "print(f\"Длительность теста: {sprt.stop_sample_size}\")"
   ]
  },
  {
   "cell_type": "markdown",
   "id": "57adf5236d189d23",
   "metadata": {},
   "source": [
    "Тест закончился с *правильным решением*: справедлива гипотеза о том, что конверсия не уменьшилась. При этом для теста потребовалось *3 502 наблюдения*.\n",
    "\n",
    "Отметич, что для классического теста с фиксированной длительностью потребовалось бы [15 734 наблюдения](https://abntester.com/#/calculation/one-sample?p=7&mde=0.5&alpha=5&beta=20&type=BINARY&alternative=LEFT_SIDED&showResult=1)."
   ]
  },
  {
   "cell_type": "markdown",
   "id": "24df35bccd9b75a6",
   "metadata": {},
   "source": [
    "### Двусторонняя альтернатива"
   ]
  },
  {
   "cell_type": "code",
   "execution_count": 5,
   "id": "ed7b7588c62bcb71",
   "metadata": {
    "ExecuteTime": {
     "end_time": "2024-02-25T20:51:50.547022Z",
     "start_time": "2024-02-25T20:51:50.545122Z"
    }
   },
   "outputs": [],
   "source": [
    "sprt = BinaryOneSampleSprt(p0, d, alpha, beta, \n",
    "                           alternative=\"two-sided\")"
   ]
  },
  {
   "cell_type": "code",
   "execution_count": 6,
   "id": "3ffe2c6bc0171d62",
   "metadata": {
    "ExecuteTime": {
     "end_time": "2024-02-25T20:51:50.894440Z",
     "start_time": "2024-02-25T20:51:50.891964Z"
    }
   },
   "outputs": [
    {
     "name": "stdout",
     "output_type": "stream",
     "text": [
      "Тест остановлен, справедлива альтернатива p > p0\n",
      "Длительность теста: 10537\n"
     ]
    }
   ],
   "source": [
    "decision_desc = \"Тест продолжается\"\n",
    "\n",
    "while decision_desc == \"Тест продолжается\":\n",
    "    x = bernoulli.rvs(p0+d) # допустим, верна альтернатива p > p0\n",
    "    decision_desc = sprt.append(x)\n",
    "    \n",
    "    if decision_desc != \"Тест продолжается\":\n",
    "        stop_flg = True\n",
    "\n",
    "print(decision_desc)\n",
    "print(f\"Длительность теста: {sprt.stop_sample_size}\")"
   ]
  },
  {
   "cell_type": "markdown",
   "id": "3a2fb94629b074ed",
   "metadata": {},
   "source": [
    "Тест закончился с *правильным решением*: справедлива альтернатива о том, что конверсия увеличилась. При этом для теста потребовалось *10 537 наблюдений*.\n",
    "\n",
    "Отметич, что для классического теста с фиксированной длительностью потребовалось бы [20 838 наблюдений](https://abntester.com/#/calculation/one-sample?p=7&mde=0.5&alpha=5&beta=20&type=BINARY&alternative=TWO_SIDED&showResult=1)."
   ]
  },
  {
   "cell_type": "code",
   "execution_count": null,
   "id": "f3f3678a",
   "metadata": {},
   "outputs": [],
   "source": []
  }
 ],
 "metadata": {
  "kernelspec": {
   "display_name": "Python 3 (ipykernel)",
   "language": "python",
   "name": "python3"
  },
  "language_info": {
   "codemirror_mode": {
    "name": "ipython",
    "version": 3
   },
   "file_extension": ".py",
   "mimetype": "text/x-python",
   "name": "python",
   "nbconvert_exporter": "python",
   "pygments_lexer": "ipython3",
   "version": "3.11.5"
  }
 },
 "nbformat": 4,
 "nbformat_minor": 5
}
